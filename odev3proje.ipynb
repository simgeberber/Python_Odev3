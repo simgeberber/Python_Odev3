{
 "cells": [
  {
   "cell_type": "code",
   "execution_count": 1,
   "id": "dc04422c-4fa9-429c-b0b3-ec893f34b589",
   "metadata": {},
   "outputs": [],
   "source": [
    "kitaplar = [\n",
    "    {\"isim\": \"Veri Bilimi 101\", \"yazar\": \"Ali\", \"tur\": \"Bilim\", \"satis\": 1200, \"yil\": 2021},\n",
    "    {\"isim\": \"Python ile Yapay Zeka\", \"yazar\": \"Ayşe\", \"tur\": \"Bilim\", \"satis\": 950, \"yil\": 2020},\n",
    "    {\"isim\": \"İstatistik Temelleri\", \"yazar\": \"Ali\", \"tur\": \"Akademik\", \"satis\": 700, \"yil\": 2019},\n",
    "    {\"isim\": \"Makine Öğrenmesi\", \"yazar\": \"Can\", \"tur\": \"Bilim\", \"satis\": 1800, \"yil\": 2022},\n",
    "    {\"isim\": \"Veri Görselleştirme\", \"yazar\": \"Deniz\", \"tur\": \"Sanat\", \"satis\": 400, \"yil\": 2018},\n",
    "    {\"isim\": \"Matematiksel Modelleme\", \"yazar\": \"Ali\", \"tur\": \"Akademik\", \"satis\": 1500, \"yil\": 2021},\n",
    "    {\"isim\": \"Bilgi Toplumu\", \"yazar\": \"Ayşe\", \"tur\": \"Sosyal\", \"satis\": 600, \"yil\": 2022}\n",
    "]"
   ]
  },
  {
   "cell_type": "code",
   "execution_count": 3,
   "id": "1c8234bf-4114-4934-9285-c317c7630498",
   "metadata": {},
   "outputs": [
    {
     "name": "stdout",
     "output_type": "stream",
     "text": [
      "En çok satan: {'isim': 'Makine Öğrenmesi', 'yazar': 'Can', 'tur': 'Bilim', 'satis': 1800, 'yil': 2022}\n",
      "Yazar satışları: {'Ali': 3400, 'Ayşe': 1550, 'Can': 1800, 'Deniz': 400}\n"
     ]
    }
   ],
   "source": [
    "# 1. Fonksiyonlar\n",
    "def en_cok_satan(kitaplar):\n",
    "    return max(kitaplar, key=lambda k: k[\"satis\"])\n",
    "\n",
    "def yazar_satislari(kitaplar):\n",
    "    sonuc = {}\n",
    "    for k in kitaplar:\n",
    "        sonuc[k[\"yazar\"]] = sonuc.get(k[\"yazar\"], 0) + k[\"satis\"]\n",
    "    return sonuc\n",
    "\n",
    "print(\"En çok satan:\", en_cok_satan(kitaplar))\n",
    "print(\"Yazar satışları:\", yazar_satislari(kitaplar))"
   ]
  },
  {
   "cell_type": "code",
   "execution_count": 5,
   "id": "ea85dda9-4a39-41b7-b60b-c1b90708fc1e",
   "metadata": {},
   "outputs": [
    {
     "name": "stdout",
     "output_type": "stream",
     "text": [
      "Türler: {'Sosyal', 'Bilim', 'Sanat', 'Akademik'}\n",
      "1000 üstü satan: ['Veri Bilimi 101', 'Makine Öğrenmesi', 'Matematiksel Modelleme']\n"
     ]
    }
   ],
   "source": [
    "# 2. Liste & Küme\n",
    "turler = set([k[\"tur\"] for k in kitaplar])\n",
    "print(\"Türler:\", turler)\n",
    "\n",
    "bin_ustu = [k[\"isim\"] for k in kitaplar if k[\"satis\"] > 1000]\n",
    "print(\"1000 üstü satan:\", bin_ustu)"
   ]
  },
  {
   "cell_type": "code",
   "execution_count": 7,
   "id": "0fd8951d-1a27-4d2c-824d-90084eede969",
   "metadata": {},
   "outputs": [
    {
     "name": "stdout",
     "output_type": "stream",
     "text": [
      "2020’den sonra çıkan kitaplar: ['Veri Bilimi 101', 'Makine Öğrenmesi', 'Matematiksel Modelleme', 'Bilgi Toplumu']\n"
     ]
    }
   ],
   "source": [
    "# 3. Lambda / Filter / Map kullanımı\n",
    "sonra_2020 = list(filter(lambda k: k[\"yil\"] > 2020, kitaplar))\n",
    "print(\"2020’den sonra çıkan kitaplar:\", [k[\"isim\"] for k in sonra_2020])"
   ]
  },
  {
   "cell_type": "code",
   "execution_count": 9,
   "id": "135eb089-5c2f-4080-802b-13aff822a414",
   "metadata": {},
   "outputs": [
    {
     "name": "stdout",
     "output_type": "stream",
     "text": [
      "Satışlar %10 artırılmış: [1320.0, 1045.0, 770.0000000000001, 1980.0000000000002, 440.00000000000006, 1650.0000000000002, 660.0]\n"
     ]
    }
   ],
   "source": [
    "arttirilmis_satislar = list(map(lambda k: k[\"satis\"] * 1.1, kitaplar))\n",
    "print(\"Satışlar %10 artırılmış:\", arttirilmis_satislar)"
   ]
  },
  {
   "cell_type": "code",
   "execution_count": 11,
   "id": "5548ba38-bf2b-480d-9db4-c9a7915e0e03",
   "metadata": {},
   "outputs": [
    {
     "name": "stdout",
     "output_type": "stream",
     "text": [
      "Satışa göre sıralı kitaplar: ['Makine Öğrenmesi', 'Matematiksel Modelleme', 'Veri Bilimi 101', 'Python ile Yapay Zeka', 'İstatistik Temelleri', 'Bilgi Toplumu', 'Veri Görselleştirme']\n"
     ]
    }
   ],
   "source": [
    "sirali_kitaplar = sorted(kitaplar, key=lambda k: k[\"satis\"], reverse=True)\n",
    "print(\"Satışa göre sıralı kitaplar:\", [k[\"isim\"] for k in sirali_kitaplar])"
   ]
  },
  {
   "cell_type": "code",
   "execution_count": 17,
   "id": "5a737fa9-8d91-41f7-b42a-323b3115c0ea",
   "metadata": {},
   "outputs": [
    {
     "name": "stdout",
     "output_type": "stream",
     "text": [
      "Ortalama satış: 1021.4\n",
      "En çok satış yapan tür: Bilim\n",
      "Standart sapma: 506.5\n"
     ]
    }
   ],
   "source": [
    "# 4. İstatistiksel Analiz\n",
    "# Ortalama satış\n",
    "import statistics\n",
    "ortalama = statistics.mean([k[\"satis\"] for k in kitaplar])\n",
    "print(\"Ortalama satış:\", round(ortalama, 1))\n",
    "\n",
    "# En çok satış yapan tür\n",
    "turler = {k[\"tur\"] for k in kitaplar}\n",
    "en_cok_tur = max(turler, key=lambda t: sum(k[\"satis\"] for k in kitaplar if k[\"tur\"] == t))\n",
    "print(\"En çok satış yapan tür:\", en_cok_tur)\n",
    "\n",
    "# Satışların standart sapması\n",
    "std_sapma = statistics.stdev([k[\"satis\"] for k in kitaplar])\n",
    "print(\"Standart sapma:\", round(std_sapma, 1))"
   ]
  },
  {
   "cell_type": "code",
   "execution_count": 23,
   "id": "3db51346-038a-4645-b5dc-f7d76363e76f",
   "metadata": {},
   "outputs": [],
   "source": [
    "# TRAİN/ TEST SİMÜLASYONU\n",
    "import random\n",
    "import statistics\n",
    "\n",
    "kitaplar = [\n",
    "    {\"isim\": \"Veri Bilimi 101\", \"yazar\": \"Ali\", \"tur\": \"Bilim\", \"satis\": 1200, \"yil\": 2021},\n",
    "    {\"isim\": \"Python ile Yapay Zeka\", \"yazar\": \"Ayşe\", \"tur\": \"Bilim\", \"satis\": 950, \"yil\": 2020},\n",
    "    {\"isim\": \"İstatistik Temelleri\", \"yazar\": \"Ali\", \"tur\": \"Akademik\", \"satis\": 700, \"yil\": 2019},\n",
    "    {\"isim\": \"Makine Öğrenmesi\", \"yazar\": \"Can\", \"tur\": \"Bilim\", \"satis\": 1800, \"yil\": 2022},\n",
    "    {\"isim\": \"Veri Görselleştirme\", \"yazar\": \"Deniz\", \"tur\": \"Sanat\", \"satis\": 400, \"yil\": 2018},\n",
    "    {\"isim\": \"Matematiksel Modelleme\", \"yazar\": \"Ali\", \"tur\": \"Akademik\", \"satis\": 1500, \"yil\": 2021},\n",
    "    {\"isim\": \"Bilgi Toplumu\", \"yazar\": \"Ayşe\", \"tur\": \"Sosyal\", \"satis\": 600, \"yil\": 2022}\n",
    "]"
   ]
  },
  {
   "cell_type": "code",
   "execution_count": 25,
   "id": "97014168-3821-42ff-ae19-aab59028500c",
   "metadata": {},
   "outputs": [
    {
     "name": "stdout",
     "output_type": "stream",
     "text": [
      "Train set: ['Matematiksel Modelleme', 'Python ile Yapay Zeka', 'Makine Öğrenmesi', 'Veri Bilimi 101']\n",
      "Test set: ['İstatistik Temelleri', 'Veri Görselleştirme', 'Bilgi Toplumu']\n"
     ]
    }
   ],
   "source": [
    "# %70 train, %30 test ayırma\n",
    "train_size = int(len(kitaplar) * 0.7)\n",
    "train_set = random.sample(kitaplar, train_size)\n",
    "test_set = [k for k in kitaplar if k not in train_set]\n",
    "\n",
    "print(\"Train set:\", [k[\"isim\"] for k in train_set])\n",
    "print(\"Test set:\", [k[\"isim\"] for k in test_set])\n"
   ]
  },
  {
   "cell_type": "code",
   "execution_count": 27,
   "id": "56030388-2016-464b-b287-b48635b68e64",
   "metadata": {},
   "outputs": [
    {
     "name": "stdout",
     "output_type": "stream",
     "text": [
      "Yazar ortalamaları (train): {'Ali': 1350, 'Ayşe': 950, 'Can': 1800}\n"
     ]
    }
   ],
   "source": [
    "# Train setinde yazarların ortalama satışını hesapla\n",
    "yazar_satis = {}\n",
    "for k in train_set:\n",
    "    if k[\"yazar\"] not in yazar_satis:\n",
    "        yazar_satis[k[\"yazar\"]] = []\n",
    "    yazar_satis[k[\"yazar\"]].append(k[\"satis\"])\n",
    "\n",
    "yazar_ortalamalari = {y: statistics.mean(satislar) for y, satislar in yazar_satis.items()}\n",
    "print(\"Yazar ortalamaları (train):\", yazar_ortalamalari)"
   ]
  },
  {
   "cell_type": "code",
   "execution_count": 29,
   "id": "9e8c8ee0-c34d-45ca-bb0a-9c4c88a02435",
   "metadata": {},
   "outputs": [
    {
     "name": "stdout",
     "output_type": "stream",
     "text": [
      "Test setinde ortalamanın üstünde olanlar: []\n"
     ]
    }
   ],
   "source": [
    "# Test setinde, bu ortalamanın üzerinde olan kitapları bul\n",
    "ustunde_olan = []\n",
    "for k in test_set:\n",
    "    ort = yazar_ortalamalari.get(k[\"yazar\"], None)\n",
    "    if ort is not None and k[\"satis\"] > ort:\n",
    "        ustunde_olan.append(k[\"isim\"])\n",
    "\n",
    "print(\"Test setinde ortalamanın üstünde olanlar:\", ustunde_olan)"
   ]
  }
 ],
 "metadata": {
  "kernelspec": {
   "display_name": "Python 3 (ipykernel)",
   "language": "python",
   "name": "python3"
  },
  "language_info": {
   "codemirror_mode": {
    "name": "ipython",
    "version": 3
   },
   "file_extension": ".py",
   "mimetype": "text/x-python",
   "name": "python",
   "nbconvert_exporter": "python",
   "pygments_lexer": "ipython3",
   "version": "3.12.7"
  }
 },
 "nbformat": 4,
 "nbformat_minor": 5
}
