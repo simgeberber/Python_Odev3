{
 "cells": [
  {
   "cell_type": "code",
   "execution_count": 1,
   "id": "ab126d41-72a4-41a1-adf1-8846fa328ad7",
   "metadata": {},
   "outputs": [
    {
     "name": "stdout",
     "output_type": "stream",
     "text": [
      "Benzersiz: [100, 92, 85, 76]\n"
     ]
    }
   ],
   "source": [
    "# SORU 1.1\n",
    "notlar = [85, 92, 76, 92, 100, 76, 85, 92]\n",
    "\n",
    "benzersiz = list(set(notlar))\n",
    "print(\"Benzersiz:\", benzersiz)"
   ]
  },
  {
   "cell_type": "code",
   "execution_count": 3,
   "id": "81c4ca7f-b196-451c-94bb-248df1f49b46",
   "metadata": {},
   "outputs": [
    {
     "name": "stdout",
     "output_type": "stream",
     "text": [
      "En yüksek: 100\n",
      "En düşük: 76\n"
     ]
    }
   ],
   "source": [
    "# SORU 1.2\n",
    "# En yüksek ve en düşük\n",
    "print(\"En yüksek:\", max(notlar))\n",
    "print(\"En düşük:\", min(notlar))"
   ]
  },
  {
   "cell_type": "code",
   "execution_count": 5,
   "id": "835d8f21-4e82-470d-a3a6-9de1f6b0e735",
   "metadata": {},
   "outputs": [
    {
     "name": "stdout",
     "output_type": "stream",
     "text": [
      "Sıralı: [76, 76, 85, 85, 92, 92, 92, 100]\n"
     ]
    }
   ],
   "source": [
    "# SORU 1.3\n",
    "# Küçükten büyüğe sıralama\n",
    "sirali = sorted(notlar)\n",
    "print(\"Sıralı:\", sirali)"
   ]
  },
  {
   "cell_type": "code",
   "execution_count": 7,
   "id": "aa0d7b3e-e785-4127-9ce4-6a2895a75d56",
   "metadata": {},
   "outputs": [
    {
     "name": "stdout",
     "output_type": "stream",
     "text": [
      "153 True\n",
      "123 False\n"
     ]
    }
   ],
   "source": [
    "def armstrong_mu(sayi):\n",
    "    basamaklar = [int(d) for d in str(sayi)]\n",
    "    toplam = sum([b**3 for b in basamaklar])\n",
    "    return toplam == sayi\n",
    "\n",
    "print(153, armstrong_mu(153))\n",
    "print(123, armstrong_mu(123))"
   ]
  },
  {
   "cell_type": "code",
   "execution_count": 9,
   "id": "49e81512-fc5d-4337-8a14-0fc1014719b8",
   "metadata": {},
   "outputs": [
    {
     "name": "stdout",
     "output_type": "stream",
     "text": [
      "Ortak: {'Python', 'SQL'}\n",
      "Sadece A’da: {'Java', 'R'}\n",
      "Birleşim (alfabetik): ['C++', 'Java', 'JavaScript', 'Python', 'R', 'SQL']\n"
     ]
    }
   ],
   "source": [
    "# SORU 3\n",
    "A = {\"Python\", \"R\", \"SQL\", \"Java\"}\n",
    "B = {\"C++\", \"Python\", \"JavaScript\", \"SQL\"}\n",
    "\n",
    "print(\"Ortak:\", A & B)\n",
    "print(\"Sadece A’da:\", A - B)\n",
    "print(\"Birleşim (alfabetik):\", sorted(A | B))"
   ]
  },
  {
   "cell_type": "code",
   "execution_count": 11,
   "id": "46300305-1433-4090-be46-f97168e531e0",
   "metadata": {},
   "outputs": [
    {
     "name": "stdout",
     "output_type": "stream",
     "text": [
      "Sayılar: [19, 8, 53, 58, 25, 45, 26, 55, 52, 82]\n",
      "Ortalama: 42.3\n",
      "Standart Sapma: 22.321140950527894\n"
     ]
    }
   ],
   "source": [
    "# SORU 4\n",
    "import random, statistics\n",
    "\n",
    "sayilar = [random.randint(1,100) for _ in range(10)]\n",
    "print(\"Sayılar:\", sayilar)\n",
    "print(\"Ortalama:\", statistics.mean(sayilar))\n",
    "print(\"Standart Sapma:\", statistics.stdev(sayilar))"
   ]
  },
  {
   "cell_type": "code",
   "execution_count": 13,
   "id": "8dac9f76-063f-443b-99a6-65035521c2b7",
   "metadata": {},
   "outputs": [
    {
     "name": "stdout",
     "output_type": "stream",
     "text": [
      "(6, 'python', 'veri')\n"
     ]
    }
   ],
   "source": [
    "# SORU 5\n",
    "def kelime_sayaci(metin):\n",
    "    kelimeler = metin.split()\n",
    "    en_uzun = max(kelimeler, key=len)\n",
    "    en_sik = max(set(kelimeler), key=kelimeler.count)\n",
    "    return len(kelimeler), en_uzun, en_sik\n",
    "\n",
    "print(kelime_sayaci(\"veri bilim veri python analiz veri\"))"
   ]
  },
  {
   "cell_type": "code",
   "execution_count": 15,
   "id": "c0b96dc1-14a3-4903-900f-5f35e23be19d",
   "metadata": {},
   "outputs": [
    {
     "name": "stdout",
     "output_type": "stream",
     "text": [
      "Çiftler: [12, 18, 24, 16]\n",
      "Kareler: [144, 324, 576, 256]\n",
      "Azalan kareler: [576, 324, 256, 144]\n"
     ]
    }
   ],
   "source": [
    "# SORU 6\n",
    "sayilar = [5, 12, 7, 18, 24, 3, 16]\n",
    "\n",
    "ciftler = list(filter(lambda x: x%2==0, sayilar))\n",
    "kareler = list(map(lambda x: x**2, ciftler))\n",
    "sirali = sorted(kareler, reverse=True)\n",
    "\n",
    "print(\"Çiftler:\", ciftler)\n",
    "print(\"Kareler:\", kareler)\n",
    "print(\"Azalan kareler:\", sirali)"
   ]
  },
  {
   "cell_type": "code",
   "execution_count": 17,
   "id": "952e4a6f-5cb4-43cc-b84d-b73186f3ef92",
   "metadata": {},
   "outputs": [
    {
     "name": "stdout",
     "output_type": "stream",
     "text": [
      "['veri', 'bilim', 'analiz', 'jupyter', 'yapayzeka']\n"
     ]
    }
   ],
   "source": [
    "# SORU 7\n",
    "kelimeler = [\"veri\", \"bilim\", \"analiz\", \"yapayzeka\", \"jupyter\"]\n",
    "sirali = sorted(kelimeler, key=lambda x: len(x))\n",
    "print(sirali)"
   ]
  },
  {
   "cell_type": "code",
   "execution_count": 19,
   "id": "57d138dc-ae9c-4311-b338-67910de459fd",
   "metadata": {},
   "outputs": [
    {
     "name": "stdout",
     "output_type": "stream",
     "text": [
      "6\n"
     ]
    }
   ],
   "source": [
    "# SORU 8\n",
    "def rakam_toplami(s):\n",
    "    rakamlar = [int(ch) for ch in s if ch.isdigit()]\n",
    "    return sum(rakamlar)\n",
    "\n",
    "print(rakam_toplami(\"abc12def3\"))"
   ]
  },
  {
   "cell_type": "code",
   "execution_count": 21,
   "id": "c0aaafd7-5504-47fc-820f-142f36ec7ef7",
   "metadata": {},
   "outputs": [
    {
     "name": "stdout",
     "output_type": "stream",
     "text": [
      "Dizi: [11  4 23 40 24 48  4 23 34 25]\n",
      "Ortalama: 23.6\n",
      "Std Sapma: 13.792751719653335\n",
      "En büyük: 48\n"
     ]
    }
   ],
   "source": [
    "# SORU 9 \n",
    "import numpy as np\n",
    "\n",
    "dizi = np.random.randint(0,51,10)\n",
    "print(\"Dizi:\", dizi)\n",
    "print(\"Ortalama:\", dizi.mean())\n",
    "print(\"Std Sapma:\", dizi.std())\n",
    "print(\"En büyük:\", dizi.max())"
   ]
  },
  {
   "cell_type": "code",
   "execution_count": 23,
   "id": "58708069-50c2-4098-9bce-b4321537de12",
   "metadata": {},
   "outputs": [
    {
     "name": "stdout",
     "output_type": "stream",
     "text": [
      "Matris:\n",
      " [[0.24065411 0.32780254 0.93365444 0.27742777 0.9558067 ]\n",
      " [0.77564842 0.14105617 0.53269341 0.79014477 0.75864057]\n",
      " [0.05158862 0.71111543 0.06974874 0.00614631 0.97826275]\n",
      " [0.68805592 0.21499717 0.61543566 0.56799195 0.05203864]\n",
      " [0.57109866 0.28516429 0.05465656 0.50857715 0.65810049]]\n",
      "Sütun ortalamaları: [0.46540915 0.33602712 0.44123776 0.43005759 0.68056983]\n",
      "Binary matris:\n",
      " [[0 0 1 0 1]\n",
      " [1 0 1 1 1]\n",
      " [0 1 0 0 1]\n",
      " [1 0 1 1 0]\n",
      " [1 0 0 1 1]]\n"
     ]
    }
   ],
   "source": [
    "# SORU 10  \n",
    "matris = np.random.rand(5,5)\n",
    "print(\"Matris:\\n\", matris)\n",
    "print(\"Sütun ortalamaları:\", matris.mean(axis=0))\n",
    "\n",
    "binary = (matris > 0.5).astype(int)\n",
    "print(\"Binary matris:\\n\", binary)"
   ]
  }
 ],
 "metadata": {
  "kernelspec": {
   "display_name": "Python 3 (ipykernel)",
   "language": "python",
   "name": "python3"
  },
  "language_info": {
   "codemirror_mode": {
    "name": "ipython",
    "version": 3
   },
   "file_extension": ".py",
   "mimetype": "text/x-python",
   "name": "python",
   "nbconvert_exporter": "python",
   "pygments_lexer": "ipython3",
   "version": "3.12.7"
  }
 },
 "nbformat": 4,
 "nbformat_minor": 5
}
